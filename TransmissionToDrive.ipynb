{
  "nbformat": 4,
  "nbformat_minor": 0,
  "metadata": {
    "colab": {
      "name": "TranssmisionToDrive.ipynb",
      "provenance": [],
      "collapsed_sections": [],
      "authorship_tag": "ABX9TyOWnTmyoEbTKgrvC3WrGe58"
    },
    "kernelspec": {
      "name": "python3",
      "display_name": "Python 3"
    }
  },
  "cells": [
    {
      "cell_type": "markdown",
      "metadata": {
        "id": "bO4Ey8yjTVS6"
      },
      "source": [
        "# **Torrent to drive directly using colab**\n",
        "This .ipynb file allows you to download and seed selected torrents for 12 hours (if this collab notebook is kept open and focused)\n",
        "\n",
        "Note: runtime environment seems to not affect the disc size you get, soo please do not use it unless you really want to.\n",
        "\n",
        "## How does it work?\n",
        "Due to rapid advancement in dark ritual technology, the programming community has streamlined the development and deployment of unspeakable eldritch horrors. Using robust open-source libraries like a sack of live geese, colab notebooks like this one can be developed with far more efficient sacrificial rituals than ever before. We're still stuck on the version with really inefficient sacrifical rituals though, due to comp͆aͭatib̊i̼͕l̈̿i̮̜t̚y̅ ͊i͋s̾s̢͈͠u̶e̛̊s̼̃\n"
      ]
    },
    {
      "cell_type": "markdown",
      "metadata": {
        "id": "TYF-S58WRqkf"
      },
      "source": [
        "# Mounting the drive\n",
        "Here you mount the drive onto the colab to allow you to upload stuff to your drive/shared drive\n"
      ]
    },
    {
      "cell_type": "code",
      "metadata": {
        "id": "oWM9l2fvtuvO"
      },
      "source": [
        "#Mount the drive\n",
        "from google.colab import drive\n",
        "drive.mount('/content/drive')"
      ],
      "execution_count": null,
      "outputs": []
    },
    {
      "cell_type": "markdown",
      "metadata": {
        "id": "dqOEvOO6Rm6s"
      },
      "source": [
        "#Installing the transmission-cli\n",
        "We run a simple command to install the torrent client\n",
        "\n",
        "\n"
      ]
    },
    {
      "cell_type": "code",
      "metadata": {
        "id": "w2HSKxZsRWMW"
      },
      "source": [
        "# Install transmission-cli\n",
        "!apt install transmission-cli\n"
      ],
      "execution_count": null,
      "outputs": []
    },
    {
      "cell_type": "markdown",
      "metadata": {
        "id": "42Bsu-9kTCDi"
      },
      "source": [
        "# Fetching the torrent and downloading it to drive\n",
        "\n",
        "1.   (If using torrent file) Upload the file to the colab session using file explorer on the left, then click three dots on the right of the file and click copy path, paste it the to console when it asks for it.\n",
        "2.   (If using magnet) Paste the magnet to the console when it asks for it.\n",
        "3.   After completing download the file should be located in `root/download`\n",
        "\n",
        "\n",
        "\n"
      ]
    },
    {
      "cell_type": "code",
      "metadata": {
        "id": "qT3EJW6KTF-R"
      },
      "source": [
        "# Ask for Magnet/File\n",
        "torrent = input('Please input the torrent file or magnet')\n",
        "\n",
        "# Use the variables to add torrent\n",
        "!transmission-cli {torrent} -D -U -p 21370"
      ],
      "execution_count": null,
      "outputs": []
    },
    {
      "cell_type": "code",
      "metadata": {
        "id": "2UFEdlUjJQsz"
      },
      "source": [
        "# Get the transmission commands if for some reson you want to change something\n",
        "!transmission-cli"
      ],
      "execution_count": null,
      "outputs": []
    },
    {
      "cell_type": "markdown",
      "metadata": {
        "id": "a3UnRUthFuTR"
      },
      "source": [
        "# Misc Tools\n",
        "\n",
        "Tools that might help you with file managing while using this notepad\n",
        "\n"
      ]
    },
    {
      "cell_type": "markdown",
      "metadata": {
        "id": "BWMIZNCsF7ag"
      },
      "source": [
        "Copy folder from x to y using shutil\n",
        "\n",
        "\n"
      ]
    },
    {
      "cell_type": "code",
      "metadata": {
        "id": "Oh37kTko2shA"
      },
      "source": [
        "import distutils.dir_util\n",
        "\n",
        "# asking for source location of file\n",
        "src = input('Please input location of the file that you want to copy')\n",
        "\n",
        "# asking for the destination of the file\n",
        "dst = input('Please input the destination of your copy')\n",
        "\n",
        "# perform the copy\n",
        "distutils.dir_util.copy_tree(src, dst)"
      ],
      "execution_count": null,
      "outputs": []
    },
    {
      "cell_type": "markdown",
      "metadata": {
        "id": "vUgMJGpkF-wg"
      },
      "source": [
        "Move file from x to y using !mv"
      ]
    },
    {
      "cell_type": "code",
      "metadata": {
        "id": "eSmzfMOQF-bK"
      },
      "source": [
        "# asking for source location of file\n",
        "src = input('Please input location of the file that you want to move')\n",
        "\n",
        "# asking for the destination of the file\n",
        "dst = input('Please input the destination of your move')\n",
        "\n",
        "#perform the move\n",
        "!mv '{src}' '{dst}'"
      ],
      "execution_count": null,
      "outputs": []
    }
  ]
}